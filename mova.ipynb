{
 "cells": [
  {
   "cell_type": "code",
   "execution_count": 1,
   "metadata": {},
   "outputs": [],
   "source": [
    "import cv2\n",
    "import mediapipe as mp\n",
    "import os"
   ]
  },
  {
   "cell_type": "code",
   "execution_count": 3,
   "metadata": {},
   "outputs": [],
   "source": [
    "def youtube_control(action):\n",
    "    if action == \"play_pause\":\n",
    "        os.system(\"osascript -e 'tell application \\\"System Events\\\" to keystroke \\\" \\\"'\")  \n",
    "    elif action == \"volume_up\":\n",
    "        os.system(\"osascript -e 'tell application \\\"System Events\\\" to key code 126'\")  \n",
    "    elif action == \"volume_down\":\n",
    "        os.system(\"osascript -e 'tell application \\\"System Events\\\" to key code 125'\") \n",
    "    elif action == \"next_video\":\n",
    "        os.system(\"osascript -e 'tell application \\\"System Events\\\" to keystroke \\\"n\\\" using shift down'\") \n",
    "    elif action == \"prev_video\":\n",
    "        os.system(\"osascript -e 'tell application \\\"System Events\\\" to keystroke \\\"p\\\" using shift down'\")  \n",
    "    elif action == \"stop\":\n",
    "        os.system(\"osascript -e 'tell application \\\"System Events\\\" to keystroke \\\"s\\\"'\") "
   ]
  },
  {
   "cell_type": "code",
   "execution_count": 4,
   "metadata": {},
   "outputs": [],
   "source": [
    "def spotify_control(action):\n",
    "    if action == \"play_pause\":\n",
    "        os.system(\"osascript -e 'tell application \\\"Spotify\\\" to playpause'\") \n",
    "    elif action == \"volume_up\":\n",
    "        os.system(\"osascript -e 'tell application \\\"Spotify\\\" to set sound volume to (sound volume + 10)'\") \n",
    "    elif action == \"volume_down\":\n",
    "        os.system(\"osascript -e 'tell application \\\"Spotify\\\" to set sound volume to (sound volume - 10)'\")  \n",
    "    elif action == \"next_track\":\n",
    "        os.system(\"osascript -e 'tell application \\\"Spotify\\\" to next track'\")  \n",
    "    elif action == \"prev_track\":\n",
    "        os.system(\"osascript -e 'tell application \\\"Spotify\\\" to previous track'\")"
   ]
  },
  {
   "cell_type": "code",
   "execution_count": 5,
   "metadata": {},
   "outputs": [],
   "source": [
    "def handle_media_control(gesture, platform):\n",
    "    if platform == \"YouTube\":\n",
    "        youtube_control(gesture)\n",
    "    elif platform == \"Spotify\":\n",
    "        spotify_control(gesture)"
   ]
  },
  {
   "cell_type": "code",
   "execution_count": 6,
   "metadata": {},
   "outputs": [
    {
     "name": "stderr",
     "output_type": "stream",
     "text": [
      "WARNING: All log messages before absl::InitializeLog() is called are written to STDERR\n",
      "I0000 00:00:1742360632.825046   97062 gl_context.cc:369] GL version: 2.1 (2.1 Metal - 89.3), renderer: Apple M1\n"
     ]
    },
    {
     "name": "stderr",
     "output_type": "stream",
     "text": [
      "INFO: Created TensorFlow Lite XNNPACK delegate for CPU.\n",
      "W0000 00:00:1742360632.841664   97816 inference_feedback_manager.cc:114] Feedback manager requires a model with a single signature inference. Disabling support for feedback tensors.\n",
      "W0000 00:00:1742360632.848819   97816 inference_feedback_manager.cc:114] Feedback manager requires a model with a single signature inference. Disabling support for feedback tensors.\n"
     ]
    }
   ],
   "source": [
    "mp_hands = mp.solutions.hands\n",
    "hands = mp_hands.Hands(\n",
    "    static_image_mode=False,\n",
    "    max_num_hands=1,\n",
    "    min_detection_confidence=0.7, \n",
    "    min_tracking_confidence=0.7\n",
    ")\n",
    "mp_draw = mp.solutions.drawing_utils"
   ]
  },
  {
   "cell_type": "code",
   "execution_count": null,
   "metadata": {},
   "outputs": [],
   "source": [
    "cap = cv2.VideoCapture(0)\n",
    "\n",
    "while cap.isOpened():\n",
    "    ret, frame = cap.read()\n",
    "    if not ret:\n",
    "        break\n",
    "\n",
    "    frame = cv2.flip(frame, 1)  \n",
    "    rgb_frame = cv2.cvtColor(frame, cv2.COLOR_BGR2RGB)  \n",
    "\n",
    "    results = hands.process(rgb_frame)  \n",
    "\n",
    "    if results.multi_hand_landmarks:\n",
    "        for hand_landmarks in results.multi_hand_landmarks:\n",
    "            mp_draw.draw_landmarks(frame, hand_landmarks, mp_hands.HAND_CONNECTIONS)\n",
    "\n",
    "            thumb_tip = hand_landmarks.landmark[4]\n",
    "            index_tip = hand_landmarks.landmark[8]\n",
    "            middle_tip = hand_landmarks.landmark[12]\n",
    "            ring_tip = hand_landmarks.landmark[16]\n",
    "            pinky_tip = hand_landmarks.landmark[20]\n",
    "\n",
    "            if (thumb_tip.y < index_tip.y and\n",
    "                thumb_tip.y < middle_tip.y and\n",
    "                thumb_tip.y < ring_tip.y and\n",
    "                thumb_tip.y < pinky_tip.y):\n",
    "                print(\"Play/Pause Gesture Detected\")\n",
    "                handle_media_control(\"play_pause\", \"Spotify\")\n",
    "\n",
    "            elif (index_tip.y < middle_tip.y and\n",
    "                  ring_tip.y > middle_tip.y and\n",
    "                  pinky_tip.y > middle_tip.y):\n",
    "                print(\"Next Track Gesture Detected\")\n",
    "                handle_media_control(\"next_track\", \"Spotify\")\n",
    "\n",
    "            elif (thumb_tip.y < index_tip.y and\n",
    "                  thumb_tip.x < index_tip.x and\n",
    "                  index_tip.y < middle_tip.y and\n",
    "                  ring_tip.y < pinky_tip.y):\n",
    "                print(\"Volume Up Gesture Detected\")\n",
    "                handle_media_control(\"volume_up\", \"Spotify\")\n",
    "\n",
    "            elif (thumb_tip.y > index_tip.y and\n",
    "                  thumb_tip.x < index_tip.x and\n",
    "                  index_tip.y < middle_tip.y and\n",
    "                  ring_tip.y < pinky_tip.y):\n",
    "                print(\"Volume Down Gesture Detected\")\n",
    "                handle_media_control(\"volume_down\", \"Spotify\")\n",
    "\n",
    "    cv2.imshow(\"mova\", frame)\n",
    "\n",
    "    if cv2.waitKey(5) & 0xFF == 27:\n",
    "        break\n",
    "\n",
    "cap.release()\n",
    "cv2.destroyAllWindows()\n"
   ]
  }
 ],
 "metadata": {
  "kernelspec": {
   "display_name": "Python 3",
   "language": "python",
   "name": "python3"
  },
  "language_info": {
   "codemirror_mode": {
    "name": "ipython",
    "version": 3
   },
   "file_extension": ".py",
   "mimetype": "text/x-python",
   "name": "python",
   "nbconvert_exporter": "python",
   "pygments_lexer": "ipython3",
   "version": "3.12.5"
  }
 },
 "nbformat": 4,
 "nbformat_minor": 2
}
